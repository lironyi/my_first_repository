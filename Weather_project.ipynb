{
  "nbformat": 4,
  "nbformat_minor": 0,
  "metadata": {
    "colab": {
      "provenance": [],
      "authorship_tag": "ABX9TyP8NaijKiSg3VRuMbntkaHl",
      "include_colab_link": true
    },
    "kernelspec": {
      "name": "python3",
      "display_name": "Python 3"
    },
    "language_info": {
      "name": "python"
    }
  },
  "cells": [
    {
      "cell_type": "markdown",
      "metadata": {
        "id": "view-in-github",
        "colab_type": "text"
      },
      "source": [
        "<a href=\"https://colab.research.google.com/github/lironyi/my_first_repository/blob/main/Weather_project.ipynb\" target=\"_parent\"><img src=\"https://colab.research.google.com/assets/colab-badge.svg\" alt=\"Open In Colab\"/></a>"
      ]
    },
    {
      "cell_type": "code",
      "source": [
        "!pip install pyowm\n",
        "from pyowm import OWM\n",
        "from pyowm.utils import config\n",
        "from pyowm.utils import timestamps\n",
        "\n",
        "\n",
        "owm = OWM('be727924bed4a3fd6611f93cefce59a1')\n",
        "mgr = owm.weather_manager()\n",
        "\n",
        "# Search for current weather in London (Great Britain) and get details\n",
        "observation = mgr.weather_at_place('London,GB')\n",
        "w = observation.weather\n",
        "\n",
        "w.detailed_status         # 'clouds'\n",
        "w.wind()                  # {'speed': 4.6, 'deg': 330}\n",
        "w.humidity                # 87\n",
        "w.temperature('celsius')  # {'temp_max': 10.5, 'temp': 9.7, 'temp_min': 9.0}\n",
        "w.rain                    # {}\n",
        "w.heat_index              # None\n",
        "w.clouds                  # 75\n",
        "\n",
        "print('Description:',w.detailed_status)\n",
        "print('Temperature: ',w.temperature('celsius'),'°C')\n",
        "print('Humidity: ',w.humidity)\n",
        "print(w.rain)\n",
        "print('clouds: ',w.clouds)\n",
        "print('Wind: ',w.wind())\n",
        "\n",
        "\n",
        "\n",
        "\n",
        "\n"
      ],
      "metadata": {
        "colab": {
          "base_uri": "https://localhost:8080/"
        },
        "id": "TJeXz0bVpL4j",
        "outputId": "d7a95089-8e8b-4195-e0e7-d61faa797d5f"
      },
      "execution_count": 31,
      "outputs": [
        {
          "output_type": "stream",
          "name": "stdout",
          "text": [
            "Requirement already satisfied: pyowm in /usr/local/lib/python3.10/dist-packages (3.3.0)\n",
            "Requirement already satisfied: requests<3,>=2.20.0 in /usr/local/lib/python3.10/dist-packages (from pyowm) (2.31.0)\n",
            "Requirement already satisfied: geojson<3,>=2.3.0 in /usr/local/lib/python3.10/dist-packages (from pyowm) (2.5.0)\n",
            "Requirement already satisfied: PySocks<2,>=1.7.1 in /usr/local/lib/python3.10/dist-packages (from pyowm) (1.7.1)\n",
            "Requirement already satisfied: charset-normalizer<4,>=2 in /usr/local/lib/python3.10/dist-packages (from requests<3,>=2.20.0->pyowm) (3.3.2)\n",
            "Requirement already satisfied: idna<4,>=2.5 in /usr/local/lib/python3.10/dist-packages (from requests<3,>=2.20.0->pyowm) (3.7)\n",
            "Requirement already satisfied: urllib3<3,>=1.21.1 in /usr/local/lib/python3.10/dist-packages (from requests<3,>=2.20.0->pyowm) (2.0.7)\n",
            "Requirement already satisfied: certifi>=2017.4.17 in /usr/local/lib/python3.10/dist-packages (from requests<3,>=2.20.0->pyowm) (2024.6.2)\n",
            "Description: broken clouds\n",
            "Temperature:  {'temp': 17.86, 'temp_max': 19.16, 'temp_min': 14.32, 'feels_like': 17.19, 'temp_kf': None} °C\n",
            "Humidity:  57\n",
            "{}\n",
            "clouds:  75\n",
            "Wind:  {'speed': 6.17, 'deg': 210}\n"
          ]
        }
      ]
    }
  ]
}